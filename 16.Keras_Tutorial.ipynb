{
  "nbformat": 4,
  "nbformat_minor": 0,
  "metadata": {
    "colab": {
      "name": "Keras_Tutorial.ipynb",
      "provenance": [],
      "collapsed_sections": []
    },
    "kernelspec": {
      "name": "python3",
      "display_name": "Python 3"
    },
    "language_info": {
      "name": "python"
    }
  },
  "cells": [
    {
      "cell_type": "markdown",
      "metadata": {
        "id": "8HgZm6i46_SF"
      },
      "source": [
        "# Keras深度學習初體驗  \n",
        "利用keras套件，產生一個32個神經元的深度學習模型進行訓練"
      ]
    },
    {
      "cell_type": "code",
      "metadata": {
        "id": "t6dmJcOH66wX"
      },
      "source": [
        "import keras\n",
        "from keras.models import Sequential\n",
        "from keras.layers import Dense"
      ],
      "execution_count": null,
      "outputs": []
    },
    {
      "cell_type": "markdown",
      "metadata": {
        "id": "pPo1eVzu7WX2"
      },
      "source": [
        "## 隨機產生1000筆資料，用來做為訓練資料\n",
        "## 每筆資料包含十個float數字, 跟一個相對應的標籤(label)"
      ]
    },
    {
      "cell_type": "code",
      "metadata": {
        "colab": {
          "base_uri": "https://localhost:8080/"
        },
        "id": "2tj2eS9R7K3L",
        "outputId": "98e61488-2d98-40d9-b8e8-080f1c981a75"
      },
      "source": [
        "import numpy as np\n",
        "#隨機產生1000筆資料，每筆資料包含十個float數字\n",
        "data = np.random.random((1000, 10)) \n",
        "#隨機產生1000筆資料作為標籤，每筆資料上限為2(意思就是0 或 1)\n",
        "labels = np.random.randint(2, size=(1000, 1)) \n",
        "print(np.shape(data))\n",
        "print(data[0])\n",
        "print(np.shape(labels))\n",
        "print(labels[0])"
      ],
      "execution_count": null,
      "outputs": [
        {
          "output_type": "stream",
          "text": [
            "(1000, 10)\n",
            "[0.34453225 0.25212561 0.25817212 0.49810214 0.71360038 0.14252151\n",
            " 0.68671952 0.61448798 0.19219346 0.0375789 ]\n",
            "(1000, 1)\n",
            "[0]\n"
          ],
          "name": "stdout"
        }
      ]
    },
    {
      "cell_type": "markdown",
      "metadata": {
        "id": "0jDbkgjk7SAG"
      },
      "source": [
        "## 步驟一：定義學習模型模型"
      ]
    },
    {
      "cell_type": "code",
      "metadata": {
        "id": "b0GtAuRl7SMV"
      },
      "source": [
        "#定義模型為一層一層堆疊模式\n",
        "model = Sequential()\n",
        "#定義第一層為32個神經元，輸入資料的維度為10，門檻函數為relu\n",
        "model.add(Dense(32, activation='relu', input_dim=10))\n",
        "#定義第二層為1個神經元的輸出層，門檻函數為sigmoid\n",
        "model.add(Dense(1, activation='sigmoid'))"
      ],
      "execution_count": null,
      "outputs": []
    },
    {
      "cell_type": "markdown",
      "metadata": {
        "id": "-gfKpEGS85mq"
      },
      "source": [
        "## 步驟二：定義評估函數"
      ]
    },
    {
      "cell_type": "code",
      "metadata": {
        "id": "IaSThgGF85x3"
      },
      "source": [
        "model.compile(optimizer='rmsprop', loss='binary_crossentropy', metrics=['accuracy'])"
      ],
      "execution_count": null,
      "outputs": []
    },
    {
      "cell_type": "markdown",
      "metadata": {
        "id": "B6LA_9t9_oWd"
      },
      "source": [
        "## 步驟三：重複計算並調整模型"
      ]
    },
    {
      "cell_type": "code",
      "metadata": {
        "colab": {
          "base_uri": "https://localhost:8080/"
        },
        "id": "7SUebPYm_oo9",
        "outputId": "7ab420db-5a2c-4aaf-cd88-2f537caacf6a"
      },
      "source": [
        "#將測試資料data，與相對應的結果(標籤)，丟進模型進行訓練\n",
        "#1000筆資料每次同時以32筆進行訓練，直到1000筆資料結束為止\n",
        "#總共要訓練10次(epochs)\n",
        "model.fit(data, labels, epochs=10, batch_size=32)"
      ],
      "execution_count": null,
      "outputs": [
        {
          "output_type": "stream",
          "text": [
            "Epoch 1/10\n",
            "32/32 [==============================] - 1s 1ms/step - loss: 0.6959 - accuracy: 0.5142\n",
            "Epoch 2/10\n",
            "32/32 [==============================] - 0s 1ms/step - loss: 0.6989 - accuracy: 0.5021\n",
            "Epoch 3/10\n",
            "32/32 [==============================] - 0s 2ms/step - loss: 0.6934 - accuracy: 0.5362\n",
            "Epoch 4/10\n",
            "32/32 [==============================] - 0s 1ms/step - loss: 0.6898 - accuracy: 0.5464\n",
            "Epoch 5/10\n",
            "32/32 [==============================] - 0s 1ms/step - loss: 0.6926 - accuracy: 0.5458\n",
            "Epoch 6/10\n",
            "32/32 [==============================] - 0s 2ms/step - loss: 0.6928 - accuracy: 0.5216\n",
            "Epoch 7/10\n",
            "32/32 [==============================] - 0s 1ms/step - loss: 0.6871 - accuracy: 0.5506\n",
            "Epoch 8/10\n",
            "32/32 [==============================] - 0s 1ms/step - loss: 0.6891 - accuracy: 0.5134\n",
            "Epoch 9/10\n",
            "32/32 [==============================] - 0s 1ms/step - loss: 0.6863 - accuracy: 0.5526\n",
            "Epoch 10/10\n",
            "32/32 [==============================] - 0s 1ms/step - loss: 0.6851 - accuracy: 0.5657\n"
          ],
          "name": "stdout"
        },
        {
          "output_type": "execute_result",
          "data": {
            "text/plain": [
              "<tensorflow.python.keras.callbacks.History at 0x7f3a41a23a50>"
            ]
          },
          "metadata": {
            "tags": []
          },
          "execution_count": 5
        }
      ]
    },
    {
      "cell_type": "markdown",
      "metadata": {
        "id": "MMPmLfxgAOaP"
      },
      "source": [
        "## 把測試資料丟入觀看評估結果"
      ]
    },
    {
      "cell_type": "code",
      "metadata": {
        "colab": {
          "base_uri": "https://localhost:8080/"
        },
        "id": "bVKH8R_cAOjH",
        "outputId": "4de196c4-2d3c-453d-831e-e4f94f347f28"
      },
      "source": [
        "#本範例將訓練資料作為測試資料進行評估\n",
        "#score[0]為誤差值，score[1]為正確性\n",
        "score=model.evaluate(data, labels)\n",
        "print(score[1])"
      ],
      "execution_count": null,
      "outputs": [
        {
          "output_type": "stream",
          "text": [
            "32/32 [==============================] - 0s 1ms/step - loss: 0.6878 - accuracy: 0.5360\n",
            "0.5360000133514404\n"
          ],
          "name": "stdout"
        }
      ]
    }
  ]
}