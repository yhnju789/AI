{
  "nbformat": 4,
  "nbformat_minor": 0,
  "metadata": {
    "colab": {
      "name": "MNIST_CNN.ipynb",
      "provenance": []
    },
    "kernelspec": {
      "name": "python3",
      "display_name": "Python 3"
    },
    "language_info": {
      "name": "python"
    },
    "accelerator": "GPU"
  },
  "cells": [
    {
      "cell_type": "code",
      "metadata": {
        "id": "Cafo5mgXfPcY"
      },
      "source": [
        "import keras\n",
        "import numpy as np\n",
        "from keras.models import Sequential\n",
        "from keras.layers import Dense, Dropout, Flatten, Conv2D, MaxPooling2D\n",
        "from keras.datasets import mnist\n",
        "from keras.utils import np_utils\n",
        "import matplotlib.pyplot as plt"
      ],
      "execution_count": 1,
      "outputs": []
    },
    {
      "cell_type": "markdown",
      "metadata": {
        "id": "Q-lh2G6Cf2xQ"
      },
      "source": [
        "## 讀取mnist資料 \n",
        "* x_train為60000筆訓練資料,每一筆資料為28x28的灰階手寫數字\n",
        "* y_train為60000筆資料的正確數字(0,1,2,3,4,5,6,7,8,9)\n",
        "* x_test為10000筆訓練資料,每一筆資料為28x28的灰階手寫數字\n",
        "* y_test為10000筆資料的正確數字(0,1,2,3,4,5,6,7,8,9)"
      ]
    },
    {
      "cell_type": "code",
      "metadata": {
        "colab": {
          "base_uri": "https://localhost:8080/"
        },
        "id": "6Udl0R_Tf27y",
        "outputId": "a366efb0-4808-4072-f2fc-8b4e4d96d19f"
      },
      "source": [
        "(x_train, y_train), (x_test, y_test) = mnist.load_data()\n",
        "print(\"x_train.shape={}, y_train.shape={}\".format(x_train.shape, y_train.shape))\n",
        "print(\"x_test.shape={}, y_test.shape={}\".format(x_test.shape, y_test.shape))"
      ],
      "execution_count": 2,
      "outputs": [
        {
          "output_type": "stream",
          "text": [
            "x_train.shape=(60000, 28, 28), y_train.shape=(60000,)\n",
            "x_test.shape=(10000, 28, 28), y_test.shape=(10000,)\n"
          ],
          "name": "stdout"
        }
      ]
    },
    {
      "cell_type": "markdown",
      "metadata": {
        "id": "r0f_NAzCgcZ7"
      },
      "source": [
        "* 接著我們必須將x_train及x_test dataset由原本三維轉為四維矩陣以符合CNN的需求\n",
        "* 這是因為RGB圖片的格式為為width, height, channels，加上ID數維度為4。\n",
        "* MNIST圖片為灰階因此其channel為1，轉換後的shape為(ID, width, height, channel)"
      ]
    },
    {
      "cell_type": "code",
      "metadata": {
        "colab": {
          "base_uri": "https://localhost:8080/"
        },
        "id": "h1qRR48tfaFp",
        "outputId": "bcc6c4d3-478e-460e-92e8-7752b6709bff"
      },
      "source": [
        "x_train = x_train.reshape(x_train.shape[0], 28, 28, 1).astype('float32')\n",
        "x_test = x_test.reshape(x_test.shape[0], 28, 28, 1).astype('float32')\n",
        "print(\"x_train.shape={}\".format(x_train.shape))\n",
        "print(\"x_test.shape={}\".format(x_test.shape))"
      ],
      "execution_count": 3,
      "outputs": [
        {
          "output_type": "stream",
          "text": [
            "x_train.shape=(60000, 28, 28, 1)\n",
            "x_test.shape=(10000, 28, 28, 1)\n"
          ],
          "name": "stdout"
        }
      ]
    },
    {
      "cell_type": "markdown",
      "metadata": {
        "id": "LYf1znMXgrco"
      },
      "source": [
        "## 正規化(均質化)\n",
        "* 接下來將dataset的特徵值進行標準化，方法是除以255（因為圖像的像素點介於0~255之間）\n",
        "* 可讓所有的特徵值介於0與1之間。除了可提昇模型預測的準確度，梯度運算時也能更快收斂。"
      ]
    },
    {
      "cell_type": "code",
      "metadata": {
        "id": "CU-WGSA4glFP"
      },
      "source": [
        "x_train = x_train / 255\n",
        "x_test = x_test / 255"
      ],
      "execution_count": 4,
      "outputs": []
    },
    {
      "cell_type": "markdown",
      "metadata": {
        "id": "UrrNPYb3hAae"
      },
      "source": [
        "## One-Hot Encoding\n",
        "* 手寫數字結果如果採用原來的1, 2, 3....在演算法中，會以為2是1的兩倍大，3是1的三倍大，其實並沒有這個意義\n",
        "* 因此會採用One-Hot encoding，將彼此間不相關且非有序的categories轉換為連續性且是有序數值。\n",
        "* 舉例來說，原本y_train[0]=5，經過onehot encoding會變成[0,0,0,0,0,1,0,0,0,0]\n"
      ]
    },
    {
      "cell_type": "code",
      "metadata": {
        "id": "fESucUhPhAtn"
      },
      "source": [
        "y_train = np_utils.to_categorical(y_train)\n",
        "y_test_categories = y_test\n",
        "y_test = np_utils.to_categorical(y_test)"
      ],
      "execution_count": 5,
      "outputs": []
    },
    {
      "cell_type": "markdown",
      "metadata": {
        "id": "VnaVgJXKhZgG"
      },
      "source": [
        "## CNN模型建置\n",
        "* filter代表過濾器的數量, kernel_size代表filter的大小\n",
        "* padding: filter遇到邊緣的處理模式('same'為補0, 'valid'為忽略)"
      ]
    },
    {
      "cell_type": "code",
      "metadata": {
        "colab": {
          "base_uri": "https://localhost:8080/"
        },
        "id": "zGOCLmNHhZ2X",
        "outputId": "d1a23560-4026-47e0-9360-3dea618b7b70"
      },
      "source": [
        "model = Sequential()\n",
        "model.add(Conv2D(16, (5, 5), input_shape=(28, 28, 1)))\n",
        "model.add(MaxPooling2D((2, 2)))\n",
        "model.add(Conv2D(36, (5, 5), activation='relu'))\n",
        "model.add(MaxPooling2D((2, 2)))\n",
        "model.add(Dropout(0.25))\n",
        "model.add(Flatten())\n",
        "model.add(Dense(10, activation='softmax'))\n",
        "model.summary()     "
      ],
      "execution_count": 6,
      "outputs": [
        {
          "output_type": "stream",
          "text": [
            "Model: \"sequential\"\n",
            "_________________________________________________________________\n",
            "Layer (type)                 Output Shape              Param #   \n",
            "=================================================================\n",
            "conv2d (Conv2D)              (None, 24, 24, 16)        416       \n",
            "_________________________________________________________________\n",
            "max_pooling2d (MaxPooling2D) (None, 12, 12, 16)        0         \n",
            "_________________________________________________________________\n",
            "conv2d_1 (Conv2D)            (None, 8, 8, 36)          14436     \n",
            "_________________________________________________________________\n",
            "max_pooling2d_1 (MaxPooling2 (None, 4, 4, 36)          0         \n",
            "_________________________________________________________________\n",
            "dropout (Dropout)            (None, 4, 4, 36)          0         \n",
            "_________________________________________________________________\n",
            "flatten (Flatten)            (None, 576)               0         \n",
            "_________________________________________________________________\n",
            "dense (Dense)                (None, 10)                5770      \n",
            "=================================================================\n",
            "Total params: 20,622\n",
            "Trainable params: 20,622\n",
            "Non-trainable params: 0\n",
            "_________________________________________________________________\n"
          ],
          "name": "stdout"
        }
      ]
    },
    {
      "cell_type": "markdown",
      "metadata": {
        "id": "yYwUnZ9Qh8N9"
      },
      "source": [
        "## 模型編譯\n",
        "* loss:損失函數 \n",
        "* optimizer:學習函數(梯度縮減的方式) \n",
        "* metrics:評估模型好壞的方式(accuracy=正確率)"
      ]
    },
    {
      "cell_type": "code",
      "metadata": {
        "id": "fIXwwbPZh8WN"
      },
      "source": [
        "model.compile(loss='categorical_crossentropy', optimizer='adam', metrics=['accuracy'])"
      ],
      "execution_count": 7,
      "outputs": []
    },
    {
      "cell_type": "markdown",
      "metadata": {
        "id": "ys_mOL3niH1y"
      },
      "source": [
        "## 模型訓練\n",
        "* x:訓練資料 \n",
        "* y:訓練資料的答案 \n",
        "* validation_split:訓練資料的多少百分比要拿來驗證 \n",
        "* validation_data:驗證資料 \n",
        "* epochs:模型訓練次數 "
      ]
    },
    {
      "cell_type": "code",
      "metadata": {
        "colab": {
          "base_uri": "https://localhost:8080/"
        },
        "id": "E245M0nxiIA7",
        "outputId": "a50f800c-1efc-45c4-83c7-1f86fa1fd433"
      },
      "source": [
        "train_history=model.fit(x=x_train, y=y_train, validation_data=(x_test, y_test), validation_split=0.2, epochs=10, batch_size=300, verbose=2)"
      ],
      "execution_count": 8,
      "outputs": [
        {
          "output_type": "stream",
          "text": [
            "Epoch 1/10\n",
            "160/160 - 4s - loss: 0.5815 - accuracy: 0.8310 - val_loss: 0.1571 - val_accuracy: 0.9561\n",
            "Epoch 2/10\n",
            "160/160 - 1s - loss: 0.1674 - accuracy: 0.9507 - val_loss: 0.1038 - val_accuracy: 0.9701\n",
            "Epoch 3/10\n",
            "160/160 - 1s - loss: 0.1201 - accuracy: 0.9637 - val_loss: 0.0810 - val_accuracy: 0.9772\n",
            "Epoch 4/10\n",
            "160/160 - 1s - loss: 0.0951 - accuracy: 0.9707 - val_loss: 0.0665 - val_accuracy: 0.9814\n",
            "Epoch 5/10\n",
            "160/160 - 1s - loss: 0.0824 - accuracy: 0.9751 - val_loss: 0.0624 - val_accuracy: 0.9821\n",
            "Epoch 6/10\n",
            "160/160 - 1s - loss: 0.0709 - accuracy: 0.9781 - val_loss: 0.0542 - val_accuracy: 0.9834\n",
            "Epoch 7/10\n",
            "160/160 - 1s - loss: 0.0651 - accuracy: 0.9795 - val_loss: 0.0514 - val_accuracy: 0.9850\n",
            "Epoch 8/10\n",
            "160/160 - 1s - loss: 0.0591 - accuracy: 0.9812 - val_loss: 0.0504 - val_accuracy: 0.9853\n",
            "Epoch 9/10\n",
            "160/160 - 1s - loss: 0.0531 - accuracy: 0.9830 - val_loss: 0.0483 - val_accuracy: 0.9858\n",
            "Epoch 10/10\n",
            "160/160 - 1s - loss: 0.0509 - accuracy: 0.9843 - val_loss: 0.0442 - val_accuracy: 0.9871\n"
          ],
          "name": "stdout"
        }
      ]
    },
    {
      "cell_type": "markdown",
      "metadata": {
        "id": "1eDTKWPhiVs2"
      },
      "source": [
        "## 模型評估"
      ]
    },
    {
      "cell_type": "code",
      "metadata": {
        "colab": {
          "base_uri": "https://localhost:8080/"
        },
        "id": "NCQQJIvRiV3O",
        "outputId": "9ed46b9c-24ab-4f5d-85fe-3960940883a1"
      },
      "source": [
        "scores = model.evaluate(x_test, y_test)\n",
        "print(\"模型正確率為：\",scores[1])"
      ],
      "execution_count": 9,
      "outputs": [
        {
          "output_type": "stream",
          "text": [
            "313/313 [==============================] - 1s 2ms/step - loss: 0.0369 - accuracy: 0.9884\n",
            "模型正確率為： 0.9883999824523926\n"
          ],
          "name": "stdout"
        }
      ]
    },
    {
      "cell_type": "markdown",
      "metadata": {
        "id": "1RWNOpfkid7e"
      },
      "source": [
        "## 繪製正確性與損失立歷史圖"
      ]
    },
    {
      "cell_type": "code",
      "metadata": {
        "colab": {
          "base_uri": "https://localhost:8080/",
          "height": 573
        },
        "id": "J7utDpzXieH-",
        "outputId": "d54b21c5-63f7-4409-9c5e-f911c7885259"
      },
      "source": [
        "def show_train_history(train_history, train, validation):\n",
        "    plt.plot(train_history.history[train])\n",
        "    plt.plot(train_history.history[validation])\n",
        "    plt.title('Train History')\n",
        "    plt.ylabel('Train')\n",
        "    plt.xlabel('Epoch')\n",
        "    plt.legend(['train', 'validation'], loc='center right')\n",
        "    plt.show()\n",
        "\n",
        "show_train_history(train_history, 'accuracy', 'val_accuracy')\n",
        "show_train_history(train_history, 'loss', 'val_loss')"
      ],
      "execution_count": 10,
      "outputs": [
        {
          "output_type": "display_data",
          "data": {
            "image/png": "[encoded data removed]",
            "text/plain": [
              "<Figure size 432x288 with 1 Axes>"
            ]
          },
          "metadata": {
            "tags": [],
            "needs_background": "light"
          }
        },
        {
          "output_type": "display_data",
          "data": {
            "image/png": "[encoded data removed]",
            "text/plain": [
              "<Figure size 432x288 with 1 Axes>"
            ]
          },
          "metadata": {
            "tags": [],
            "needs_background": "light"
          }
        }
      ]
    },
    {
      "cell_type": "markdown",
      "metadata": {
        "id": "zs0Im0Ehiq_c"
      },
      "source": [
        "## Confusion Matrix混淆矩陣"
      ]
    },
    {
      "cell_type": "code",
      "metadata": {
        "colab": {
          "base_uri": "https://localhost:8080/",
          "height": 445
        },
        "id": "txujHJ5EirIV",
        "outputId": "4ec42930-f40e-4523-b161-39a7adb9c38a"
      },
      "source": [
        "\n",
        "import pandas as pd\n",
        "prediction = model.predict_classes(x_test)\n",
        "print(y_test.shape)\n",
        "pd.crosstab(y_test_categories, prediction, rownames=['label'], colnames=['predict'])"
      ],
      "execution_count": 11,
      "outputs": [
        {
          "output_type": "stream",
          "text": [
            "/usr/local/lib/python3.7/dist-packages/tensorflow/python/keras/engine/sequential.py:450: UserWarning: `model.predict_classes()` is deprecated and will be removed after 2021-01-01. Please use instead:* `np.argmax(model.predict(x), axis=-1)`,   if your model does multi-class classification   (e.g. if it uses a `softmax` last-layer activation).* `(model.predict(x) > 0.5).astype(\"int32\")`,   if your model does binary classification   (e.g. if it uses a `sigmoid` last-layer activation).\n",
            "  warnings.warn('`model.predict_classes()` is deprecated and '\n"
          ],
          "name": "stderr"
        },
        {
          "output_type": "stream",
          "text": [
            "(10000, 10)\n"
          ],
          "name": "stdout"
        },
        {
          "output_type": "execute_result",
          "data": {
            "text/html": [
              "<div>\n",
              "<style scoped>\n",
              "    .dataframe tbody tr th:only-of-type {\n",
              "        vertical-align: middle;\n",
              "    }\n",
              "\n",
              "    .dataframe tbody tr th {\n",
              "        vertical-align: top;\n",
              "    }\n",
              "\n",
              "    .dataframe thead th {\n",
              "        text-align: right;\n",
              "    }\n",
              "</style>\n",
              "<table border=\"1\" class=\"dataframe\">\n",
              "  <thead>\n",
              "    <tr style=\"text-align: right;\">\n",
              "      <th>predict</th>\n",
              "      <th>0</th>\n",
              "      <th>1</th>\n",
              "      <th>2</th>\n",
              "      <th>3</th>\n",
              "      <th>4</th>\n",
              "      <th>5</th>\n",
              "      <th>6</th>\n",
              "      <th>7</th>\n",
              "      <th>8</th>\n",
              "      <th>9</th>\n",
              "    </tr>\n",
              "    <tr>\n",
              "      <th>label</th>\n",
              "      <th></th>\n",
              "      <th></th>\n",
              "      <th></th>\n",
              "      <th></th>\n",
              "      <th></th>\n",
              "      <th></th>\n",
              "      <th></th>\n",
              "      <th></th>\n",
              "      <th></th>\n",
              "      <th></th>\n",
              "    </tr>\n",
              "  </thead>\n",
              "  <tbody>\n",
              "    <tr>\n",
              "      <th>0</th>\n",
              "      <td>977</td>\n",
              "      <td>0</td>\n",
              "      <td>0</td>\n",
              "      <td>0</td>\n",
              "      <td>0</td>\n",
              "      <td>0</td>\n",
              "      <td>0</td>\n",
              "      <td>1</td>\n",
              "      <td>2</td>\n",
              "      <td>0</td>\n",
              "    </tr>\n",
              "    <tr>\n",
              "      <th>1</th>\n",
              "      <td>0</td>\n",
              "      <td>1129</td>\n",
              "      <td>1</td>\n",
              "      <td>1</td>\n",
              "      <td>1</td>\n",
              "      <td>1</td>\n",
              "      <td>1</td>\n",
              "      <td>1</td>\n",
              "      <td>0</td>\n",
              "      <td>0</td>\n",
              "    </tr>\n",
              "    <tr>\n",
              "      <th>2</th>\n",
              "      <td>1</td>\n",
              "      <td>2</td>\n",
              "      <td>1026</td>\n",
              "      <td>0</td>\n",
              "      <td>0</td>\n",
              "      <td>0</td>\n",
              "      <td>0</td>\n",
              "      <td>1</td>\n",
              "      <td>2</td>\n",
              "      <td>0</td>\n",
              "    </tr>\n",
              "    <tr>\n",
              "      <th>3</th>\n",
              "      <td>1</td>\n",
              "      <td>0</td>\n",
              "      <td>3</td>\n",
              "      <td>1000</td>\n",
              "      <td>0</td>\n",
              "      <td>3</td>\n",
              "      <td>0</td>\n",
              "      <td>1</td>\n",
              "      <td>1</td>\n",
              "      <td>1</td>\n",
              "    </tr>\n",
              "    <tr>\n",
              "      <th>4</th>\n",
              "      <td>0</td>\n",
              "      <td>0</td>\n",
              "      <td>3</td>\n",
              "      <td>0</td>\n",
              "      <td>976</td>\n",
              "      <td>0</td>\n",
              "      <td>0</td>\n",
              "      <td>0</td>\n",
              "      <td>1</td>\n",
              "      <td>2</td>\n",
              "    </tr>\n",
              "    <tr>\n",
              "      <th>5</th>\n",
              "      <td>1</td>\n",
              "      <td>0</td>\n",
              "      <td>0</td>\n",
              "      <td>7</td>\n",
              "      <td>0</td>\n",
              "      <td>878</td>\n",
              "      <td>1</td>\n",
              "      <td>1</td>\n",
              "      <td>1</td>\n",
              "      <td>3</td>\n",
              "    </tr>\n",
              "    <tr>\n",
              "      <th>6</th>\n",
              "      <td>7</td>\n",
              "      <td>2</td>\n",
              "      <td>0</td>\n",
              "      <td>0</td>\n",
              "      <td>2</td>\n",
              "      <td>4</td>\n",
              "      <td>941</td>\n",
              "      <td>0</td>\n",
              "      <td>2</td>\n",
              "      <td>0</td>\n",
              "    </tr>\n",
              "    <tr>\n",
              "      <th>7</th>\n",
              "      <td>0</td>\n",
              "      <td>2</td>\n",
              "      <td>9</td>\n",
              "      <td>2</td>\n",
              "      <td>0</td>\n",
              "      <td>0</td>\n",
              "      <td>0</td>\n",
              "      <td>1011</td>\n",
              "      <td>1</td>\n",
              "      <td>3</td>\n",
              "    </tr>\n",
              "    <tr>\n",
              "      <th>8</th>\n",
              "      <td>3</td>\n",
              "      <td>0</td>\n",
              "      <td>3</td>\n",
              "      <td>1</td>\n",
              "      <td>1</td>\n",
              "      <td>0</td>\n",
              "      <td>2</td>\n",
              "      <td>2</td>\n",
              "      <td>958</td>\n",
              "      <td>4</td>\n",
              "    </tr>\n",
              "    <tr>\n",
              "      <th>9</th>\n",
              "      <td>4</td>\n",
              "      <td>2</td>\n",
              "      <td>1</td>\n",
              "      <td>2</td>\n",
              "      <td>6</td>\n",
              "      <td>2</td>\n",
              "      <td>0</td>\n",
              "      <td>3</td>\n",
              "      <td>1</td>\n",
              "      <td>988</td>\n",
              "    </tr>\n",
              "  </tbody>\n",
              "</table>\n",
              "</div>"
            ],
            "text/plain": [
              "predict    0     1     2     3    4    5    6     7    8    9\n",
              "label                                                        \n",
              "0        977     0     0     0    0    0    0     1    2    0\n",
              "1          0  1129     1     1    1    1    1     1    0    0\n",
              "2          1     2  1026     0    0    0    0     1    2    0\n",
              "3          1     0     3  1000    0    3    0     1    1    1\n",
              "4          0     0     3     0  976    0    0     0    1    2\n",
              "5          1     0     0     7    0  878    1     1    1    3\n",
              "6          7     2     0     0    2    4  941     0    2    0\n",
              "7          0     2     9     2    0    0    0  1011    1    3\n",
              "8          3     0     3     1    1    0    2     2  958    4\n",
              "9          4     2     1     2    6    2    0     3    1  988"
            ]
          },
          "metadata": {
            "tags": []
          },
          "execution_count": 11
        }
      ]
    }
  ]
}